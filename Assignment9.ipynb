{
 "cells": [
  {
   "cell_type": "markdown",
   "id": "f3516087-dda7-458d-b938-5417c0a53fe2",
   "metadata": {},
   "source": [
    "Assignment 9"
   ]
  },
  {
   "cell_type": "markdown",
   "id": "12305139-94fa-4798-8d93-51fb8fa4b6ab",
   "metadata": {},
   "source": [
    "Q1. Explain why we have to use the Exception class while creating a Custom Exception."
   ]
  },
  {
   "cell_type": "markdown",
   "id": "5c046967-d228-4004-97d8-004cc2c2982c",
   "metadata": {},
   "source": [
    "Ans: Exception class offer information about python related problems, and custom exception will add information\n",
    "    about project related problems. That way, we can design our code (and traceback, if an exception is raised ) \n",
    "    in a way that combines python code with the language of the project."
   ]
  },
  {
   "cell_type": "markdown",
   "id": "c3c995f9-ba3e-43ec-ae24-ce683f0d8040",
   "metadata": {},
   "source": [
    "Q2. Write a python program to print Python Exception Hierarchy."
   ]
  },
  {
   "cell_type": "code",
   "execution_count": null,
   "id": "663b2d23-db46-43a3-b547-e2d3bfaa716e",
   "metadata": {},
   "outputs": [],
   "source": [
    "#Ans:\n",
    "import inspect\n",
    "def treeClass(cls,ind=0):\n",
    "    print('-'*ind,cls.__name__)\n",
    "    for i in cls.__subclasses__():\n",
    "        treeClass(i,ind+3)\n",
    "print(\"Hierarchy for built in exceptions is: \")\n",
    "inspect.getclasstree(inspect.getmro(BaseException))\n",
    "treeClass(BaseException)"
   ]
  },
  {
   "cell_type": "markdown",
   "id": "926c4068-72c6-4314-a513-9f1c3b4a2942",
   "metadata": {},
   "source": [
    "Q3. What errors are defined in the ArithmeticError class ? Explain any two with an example."
   ]
  },
  {
   "cell_type": "markdown",
   "id": "6a4046da-225e-4253-8ad6-225450bf6db6",
   "metadata": {},
   "source": [
    "Ans: The errors defined in the ArithmeticError class are:\n",
    "     1. OverflowError\n",
    "     2. ZeroDivisionError\n",
    "     3. FloatingPointError"
   ]
  },
  {
   "cell_type": "code",
   "execution_count": 7,
   "id": "854197ed-9cf6-4258-98e0-d75f08a72752",
   "metadata": {},
   "outputs": [
    {
     "ename": "ZeroDivisionError",
     "evalue": "division by zero",
     "output_type": "error",
     "traceback": [
      "\u001b[0;31m---------------------------------------------------------------------------\u001b[0m",
      "\u001b[0;31mZeroDivisionError\u001b[0m                         Traceback (most recent call last)",
      "Cell \u001b[0;32mIn[7], line 4\u001b[0m\n\u001b[1;32m      2\u001b[0m a\u001b[38;5;241m=\u001b[39m\u001b[38;5;241m10\u001b[39m\n\u001b[1;32m      3\u001b[0m b\u001b[38;5;241m=\u001b[39m\u001b[38;5;241m0\u001b[39m                       \u001b[38;5;66;03m# we try to divide a number by 0,and print the result. But in this code, an error will occur\u001b[39;00m\n\u001b[0;32m----> 4\u001b[0m c\u001b[38;5;241m=\u001b[39m\u001b[43ma\u001b[49m\u001b[38;5;241;43m/\u001b[39;49m\u001b[43mb\u001b[49m                     \u001b[38;5;66;03m# The error is ZeroDivisionError.\u001b[39;00m\n\u001b[1;32m      5\u001b[0m \u001b[38;5;28mprint\u001b[39m(c)\n",
      "\u001b[0;31mZeroDivisionError\u001b[0m: division by zero"
     ]
    }
   ],
   "source": [
    "#Example of ZeroDivisionError:\n",
    "a=10\n",
    "b=0                       # we try to divide a number by 0,and print the result. But in this code, an error will occur\n",
    "c=a/b                     # The error is ZeroDivisionError.\n",
    "print(c)"
   ]
  },
  {
   "cell_type": "code",
   "execution_count": 1,
   "id": "2ccf043c-5ed3-4bbe-9ffb-fd86067cfcd3",
   "metadata": {},
   "outputs": [
    {
     "data": {
      "text/plain": [
       "0.19999999999999996"
      ]
     },
     "execution_count": 1,
     "metadata": {},
     "output_type": "execute_result"
    }
   ],
   "source": [
    "#Example of FloatingPointError:\n",
    "1.2-1.0             #As it is known that 1.2-1.0=0.2, but when try to run same in python, we get 0.199999 It is\n",
    "                    #FloatingPointError"
   ]
  },
  {
   "cell_type": "markdown",
   "id": "812ce3d5-7f97-471d-8762-ec7498544534",
   "metadata": {},
   "source": [
    "Q4. Why LookupError class is used? Explain with an example KeyError and IndexError."
   ]
  },
  {
   "cell_type": "markdown",
   "id": "5305e113-a732-472b-abf1-22d71763a9fc",
   "metadata": {},
   "source": [
    "Ans: The LookupError exception in python forms the base class for all exceptions that are raised when an index or key is not        found for a sequence or dictionary respectively. We can use LookupError exception class to handle both IndexError and\n",
    "     KeyError exception classes."
   ]
  },
  {
   "cell_type": "code",
   "execution_count": 1,
   "id": "cfc30257-fd7d-4044-aa1f-c970b47f9f8b",
   "metadata": {},
   "outputs": [
    {
     "ename": "KeyError",
     "evalue": "'e'",
     "output_type": "error",
     "traceback": [
      "\u001b[0;31m---------------------------------------------------------------------------\u001b[0m",
      "\u001b[0;31mKeyError\u001b[0m                                  Traceback (most recent call last)",
      "Cell \u001b[0;32mIn[1], line 3\u001b[0m\n\u001b[1;32m      1\u001b[0m \u001b[38;5;66;03m#Consider example:\u001b[39;00m\n\u001b[1;32m      2\u001b[0m d\u001b[38;5;241m=\u001b[39m{\u001b[38;5;124m\"\u001b[39m\u001b[38;5;124ma\u001b[39m\u001b[38;5;124m\"\u001b[39m:\u001b[38;5;241m1\u001b[39m,\u001b[38;5;124m\"\u001b[39m\u001b[38;5;124mb\u001b[39m\u001b[38;5;124m\"\u001b[39m:\u001b[38;5;241m2\u001b[39m,\u001b[38;5;124m\"\u001b[39m\u001b[38;5;124mc\u001b[39m\u001b[38;5;124m\"\u001b[39m:\u001b[38;5;241m3\u001b[39m}    \u001b[38;5;66;03m# Consider a dictionery d. At first try to print the value of \"e\" in d.\u001b[39;00m\n\u001b[0;32m----> 3\u001b[0m a\u001b[38;5;241m=\u001b[39m\u001b[43md\u001b[49m\u001b[43m[\u001b[49m\u001b[38;5;124;43m\"\u001b[39;49m\u001b[38;5;124;43me\u001b[39;49m\u001b[38;5;124;43m\"\u001b[39;49m\u001b[43m]\u001b[49m                 \u001b[38;5;66;03m# This code generate an error, since the key \"e\" is not in d. This error is called KeyError.                      \u001b[39;00m\n\u001b[1;32m      4\u001b[0m \u001b[38;5;28mprint\u001b[39m(a)\n",
      "\u001b[0;31mKeyError\u001b[0m: 'e'"
     ]
    }
   ],
   "source": [
    "#Consider example:\n",
    "d={\"a\":1,\"b\":2,\"c\":3}    # Consider a dictionery d. At first try to print the value of \"e\" in d.\n",
    "a=d[\"e\"]                 # This code generate an error, since the key \"e\" is not in d. This error is called KeyError.                      \n",
    "print(a)"
   ]
  },
  {
   "cell_type": "code",
   "execution_count": 2,
   "id": "470c7a59-139f-4ffa-9c33-934db71512ec",
   "metadata": {},
   "outputs": [
    {
     "ename": "IndexError",
     "evalue": "list index out of range",
     "output_type": "error",
     "traceback": [
      "\u001b[0;31m---------------------------------------------------------------------------\u001b[0m",
      "\u001b[0;31mIndexError\u001b[0m                                Traceback (most recent call last)",
      "Cell \u001b[0;32mIn[2], line 2\u001b[0m\n\u001b[1;32m      1\u001b[0m l\u001b[38;5;241m=\u001b[39m[\u001b[38;5;241m1\u001b[39m,\u001b[38;5;241m2\u001b[39m,\u001b[38;5;241m3\u001b[39m]               \u001b[38;5;66;03m# We try to access and print the value of index 4 of a list l. This generates an error, since                       \u001b[39;00m\n\u001b[0;32m----> 2\u001b[0m x\u001b[38;5;241m=\u001b[39m\u001b[43ml\u001b[49m\u001b[43m[\u001b[49m\u001b[38;5;241;43m4\u001b[39;49m\u001b[43m]\u001b[49m                  \u001b[38;5;66;03m# there is no element at index 4 in l. i.e index out of range. This error is called IndexError. \u001b[39;00m\n\u001b[1;32m      3\u001b[0m \u001b[38;5;28mprint\u001b[39m(x)\n",
      "\u001b[0;31mIndexError\u001b[0m: list index out of range"
     ]
    }
   ],
   "source": [
    "l=[1,2,3]               # We try to access and print the value of index 4 of a list l. This generates an error, since                       \n",
    "x=l[4]                  # there is no element at index 4 in l. i.e index out of range. This error is called IndexError. \n",
    "print(x)"
   ]
  },
  {
   "cell_type": "markdown",
   "id": "8a5f5087-5183-4b38-a47e-4f4f1723d135",
   "metadata": {},
   "source": [
    "Q5. Explain ImportError. What is ModuleNotFoundError?"
   ]
  },
  {
   "cell_type": "markdown",
   "id": "fc4ca870-b5e2-489b-889b-f6788e950ed5",
   "metadata": {},
   "source": [
    "Ans: ImportError is raised when a module or member of a module cannot be imported. There are a two condition where an\n",
    "     ImportError might be raised.\n",
    "     1. If a module does not exist.\n",
    "     2. If from X import Y is used and Y cannot be found inside the the module X, an ImportError is raised.\n",
    "     ModuleNotFoundError occurs when we are trying to access or use a module that cannot be found."
   ]
  },
  {
   "cell_type": "markdown",
   "id": "a745b769-f8eb-4dbe-8ab7-ba99e7f950f0",
   "metadata": {},
   "source": [
    "Q6. List down some best practices for exception handling in python."
   ]
  },
  {
   "cell_type": "markdown",
   "id": "d6e27a56-ecfa-44e3-92d8-c75063f48735",
   "metadata": {},
   "source": [
    "Ans: 1. Use always a specific exceptions.\n",
    "     2. Print always a proper massage.\n",
    "     3. Always try to log our error.\n",
    "     4. Always avoid to write a multiple exception handling.\n",
    "     5. Document all the error.\n",
    "     6. Cleanup all the resourses."
   ]
  },
  {
   "cell_type": "markdown",
   "id": "3122f31d-8686-493e-a46e-0a3164579eb8",
   "metadata": {},
   "source": []
  }
 ],
 "metadata": {
  "kernelspec": {
   "display_name": "Python 3 (ipykernel)",
   "language": "python",
   "name": "python3"
  },
  "language_info": {
   "codemirror_mode": {
    "name": "ipython",
    "version": 3
   },
   "file_extension": ".py",
   "mimetype": "text/x-python",
   "name": "python",
   "nbconvert_exporter": "python",
   "pygments_lexer": "ipython3",
   "version": "3.10.8"
  }
 },
 "nbformat": 4,
 "nbformat_minor": 5
}
